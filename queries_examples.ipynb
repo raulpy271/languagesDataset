{
  "nbformat": 4,
  "nbformat_minor": 0,
  "metadata": {
    "colab": {
      "name": "usingLanguagesDF",
      "provenance": []
    },
    "kernelspec": {
      "name": "python3",
      "display_name": "Python 3"
    }
  },
  "cells": [
    {
      "cell_type": "markdown",
      "metadata": {
        "id": "-r0EefH-NBPp"
      },
      "source": [
        "## Setup the data:\n",
        "\n",
        "The fallowing code treat the data using these steps:\n",
        "\n",
        "1.   Read the data\n",
        "2.   Remove the rows with empty values\n",
        "3.   Sort values by date\n",
        "\n",
        "\n",
        "\n",
        "\n"
      ]
    },
    {
      "cell_type": "code",
      "metadata": {
        "id": "sFIwICP_LmPf"
      },
      "source": [
        "from pandas import read_csv\n",
        "\n",
        "columns_to_show = ['name', 'website']\n",
        "df_link = 'https://raw.githubusercontent.com/raulpy271/languagesDataset/main/datasets/all_languages.tsv'\n",
        "df = read_csv(df_link, sep='\\t')\n",
        "\n",
        "\n",
        "df.dropna(inplace=True)\n",
        "df.sort_values('first_release', ascending=False, inplace=True)"
      ],
      "execution_count": 1,
      "outputs": []
    },
    {
      "cell_type": "markdown",
      "metadata": {
        "id": "Pgu2m0KoHErR"
      },
      "source": [
        "## Examples of query:"
      ]
    },
    {
      "cell_type": "markdown",
      "metadata": {
        "id": "_CD4kxZH78nw"
      },
      "source": [
        "### Query the most old languages which has the functional paradigm:\n"
      ]
    },
    {
      "cell_type": "code",
      "metadata": {
        "colab": {
          "base_uri": "https://localhost:8080/",
          "height": 206
        },
        "id": "8HpHvanwvb3X",
        "outputId": "3aa61d06-071a-48c7-c757-6cbc83cf59f5"
      },
      "source": [
        "have_functional_paradigm = (\n",
        "    df['paradigms'].str.lower()\n",
        "    .str.contains('functional'))\n",
        "\n",
        "\n",
        "df[have_functional_paradigm][columns_to_show].tail()"
      ],
      "execution_count": 2,
      "outputs": [
        {
          "output_type": "execute_result",
          "data": {
            "text/html": [
              "<div>\n",
              "<style scoped>\n",
              "    .dataframe tbody tr th:only-of-type {\n",
              "        vertical-align: middle;\n",
              "    }\n",
              "\n",
              "    .dataframe tbody tr th {\n",
              "        vertical-align: top;\n",
              "    }\n",
              "\n",
              "    .dataframe thead th {\n",
              "        text-align: right;\n",
              "    }\n",
              "</style>\n",
              "<table border=\"1\" class=\"dataframe\">\n",
              "  <thead>\n",
              "    <tr style=\"text-align: right;\">\n",
              "      <th></th>\n",
              "      <th>name</th>\n",
              "      <th>website</th>\n",
              "    </tr>\n",
              "  </thead>\n",
              "  <tbody>\n",
              "    <tr>\n",
              "      <th>372</th>\n",
              "      <td>miranda</td>\n",
              "      <td>http://miranda.org.uk/</td>\n",
              "    </tr>\n",
              "    <tr>\n",
              "      <th>573</th>\n",
              "      <td>sml</td>\n",
              "      <td>http://sml-family.org/</td>\n",
              "    </tr>\n",
              "    <tr>\n",
              "      <th>607</th>\n",
              "      <td>t</td>\n",
              "      <td>http://mumble.net/~jar/tproject</td>\n",
              "    </tr>\n",
              "    <tr>\n",
              "      <th>551</th>\n",
              "      <td>scheme</td>\n",
              "      <td>http://www.scheme-reports.org/</td>\n",
              "    </tr>\n",
              "    <tr>\n",
              "      <th>353</th>\n",
              "      <td>matlab</td>\n",
              "      <td>https://www.mathworks.com/products/matlab.html</td>\n",
              "    </tr>\n",
              "  </tbody>\n",
              "</table>\n",
              "</div>"
            ],
            "text/plain": [
              "        name                                         website\n",
              "372  miranda                          http://miranda.org.uk/\n",
              "573      sml                          http://sml-family.org/\n",
              "607        t                 http://mumble.net/~jar/tproject\n",
              "551   scheme                  http://www.scheme-reports.org/\n",
              "353   matlab  https://www.mathworks.com/products/matlab.html"
            ]
          },
          "metadata": {
            "tags": []
          },
          "execution_count": 2
        }
      ]
    },
    {
      "cell_type": "markdown",
      "metadata": {
        "id": "DrPvdTpH8YE7"
      },
      "source": [
        "### Search the languages that use functional programming for web development:"
      ]
    },
    {
      "cell_type": "code",
      "metadata": {
        "colab": {
          "base_uri": "https://localhost:8080/",
          "height": 300
        },
        "id": "jtHIN5lW8kmZ",
        "outputId": "d8ad9653-1bfc-4155-9a4f-8f6d3d158a94"
      },
      "source": [
        "used_to_web_development = (\n",
        "    df['about'].str.lower()\n",
        "    .str.contains('web'))\n",
        "\n",
        "\n",
        "functional_in_web_development = (\n",
        "    used_to_web_development & have_functional_paradigm)\n",
        "\n",
        "\n",
        "df[functional_in_web_development][columns_to_show]"
      ],
      "execution_count": 3,
      "outputs": [
        {
          "output_type": "execute_result",
          "data": {
            "text/html": [
              "<div>\n",
              "<style scoped>\n",
              "    .dataframe tbody tr th:only-of-type {\n",
              "        vertical-align: middle;\n",
              "    }\n",
              "\n",
              "    .dataframe tbody tr th {\n",
              "        vertical-align: top;\n",
              "    }\n",
              "\n",
              "    .dataframe thead th {\n",
              "        text-align: right;\n",
              "    }\n",
              "</style>\n",
              "<table border=\"1\" class=\"dataframe\">\n",
              "  <thead>\n",
              "    <tr style=\"text-align: right;\">\n",
              "      <th></th>\n",
              "      <th>name</th>\n",
              "      <th>website</th>\n",
              "    </tr>\n",
              "  </thead>\n",
              "  <tbody>\n",
              "    <tr>\n",
              "      <th>504</th>\n",
              "      <td>purescript</td>\n",
              "      <td>http://www.purescript.org/</td>\n",
              "    </tr>\n",
              "    <tr>\n",
              "      <th>161</th>\n",
              "      <td>elm</td>\n",
              "      <td>https://elm-lang.org/</td>\n",
              "    </tr>\n",
              "    <tr>\n",
              "      <th>296</th>\n",
              "      <td>kotlin</td>\n",
              "      <td>https://kotlinlang.org/</td>\n",
              "    </tr>\n",
              "    <tr>\n",
              "      <th>430</th>\n",
              "      <td>opa</td>\n",
              "      <td>http://opalang.org/</td>\n",
              "    </tr>\n",
              "    <tr>\n",
              "      <th>133</th>\n",
              "      <td>dart</td>\n",
              "      <td>https://dart.dev/</td>\n",
              "    </tr>\n",
              "    <tr>\n",
              "      <th>423</th>\n",
              "      <td>objective-j</td>\n",
              "      <td>http://www.cappuccino-project.org/</td>\n",
              "    </tr>\n",
              "    <tr>\n",
              "      <th>155</th>\n",
              "      <td>ecmascript</td>\n",
              "      <td>http://www.ecma-international.org/</td>\n",
              "    </tr>\n",
              "    <tr>\n",
              "      <th>458</th>\n",
              "      <td>php</td>\n",
              "      <td>https://www.php.net/</td>\n",
              "    </tr>\n",
              "  </tbody>\n",
              "</table>\n",
              "</div>"
            ],
            "text/plain": [
              "            name                             website\n",
              "504   purescript          http://www.purescript.org/\n",
              "161          elm               https://elm-lang.org/\n",
              "296       kotlin             https://kotlinlang.org/\n",
              "430          opa                 http://opalang.org/\n",
              "133         dart                   https://dart.dev/\n",
              "423  objective-j  http://www.cappuccino-project.org/\n",
              "155   ecmascript  http://www.ecma-international.org/\n",
              "458          php                https://www.php.net/"
            ]
          },
          "metadata": {
            "tags": []
          },
          "execution_count": 3
        }
      ]
    }
  ]
}